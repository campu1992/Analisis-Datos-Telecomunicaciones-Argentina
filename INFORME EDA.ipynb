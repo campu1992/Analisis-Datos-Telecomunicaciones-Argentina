{
 "cells": [
  {
   "cell_type": "code",
   "execution_count": 3,
   "metadata": {},
   "outputs": [],
   "source": [
    "from IPython.display import display, HTML"
   ]
  },
  {
   "attachments": {},
   "cell_type": "markdown",
   "metadata": {},
   "source": [
    "INFORME DE EDA "
   ]
  },
  {
   "attachments": {},
   "cell_type": "markdown",
   "metadata": {},
   "source": [
    "En el siguiente informe se expondrá el analisis exploratorio de los datasets con los que he decidido trabajar y los principales hallazgos que me permitiran realizar un dashboard con los kpi's que nos permita comprender la situación que se nos plantea.\n",
    "\n",
    "El primer paso fue seleccionar los datasets: \n",
    "\n",
    "*Internet-penetracion\n",
    "*Internet-ingresos\n",
    "*Internet-accesos-tecnología\n",
    "*Telefonia-fija-cada100hogares\n",
    "*Telefonia-fija-ingresos\n",
    "*Telefonia-movil-cada100habitantes\n",
    "*Telefonia-movil-ingresos\n",
    "\n",
    "Se decidió seleccionar éstos 7 datasets después de ver columnas que coincidian entre ellos para luego juntarlas en una sola tabla y analizar estadisticamente correlaciones que nos pudieran brindar información relevante."
   ]
  },
  {
   "attachments": {},
   "cell_type": "markdown",
   "metadata": {},
   "source": [
    "Después de cargar la información de los datasets a través de python se procede a hacer una limpieza de valores nulos, valores repetidos, y errores en algunas filas con valores errados. Se cambia también los tipos de datos, volviendo numéricos aquellos que son necesarios para generar medidas y que vienen mal dados."
   ]
  },
  {
   "attachments": {},
   "cell_type": "markdown",
   "metadata": {},
   "source": [
    "Los 3 datasets de internet son unidos a través de columnas en común y se procede a realizar el siguiente analisis exploratorio con la herramienta SweetViz"
   ]
  },
  {
   "cell_type": "code",
   "execution_count": null,
   "metadata": {},
   "outputs": [],
   "source": [
    "with open('EDA-INT.html', 'r') as f:\n",
    "    contenido = f.read()\n",
    "\n",
    "display(HTML(contenido))"
   ]
  },
  {
   "attachments": {},
   "cell_type": "markdown",
   "metadata": {},
   "source": [
    "El análisis me indica principalmente que la data se encuentra limpia al no tener repetidos ni nulos. Tambien logro identificar que los datos tienen una distribucion normal a excepcion de los ingresos, los cuales tienen una distribucion multimodal y que debe ser obervado en función de una temporalidad.\n",
    "\n",
    "También puedo observar las correlaciones que existen entre los datos e identifico que las columnas que mas se corelacionan entre si son los ingresos con año y trimestre. También el acceso por cada 100 hogares esta correlacionado con año y con provincia , dandonos una idea general de los kpi´s que podriamos construir en base a ésta información.\n"
   ]
  },
  {
   "attachments": {},
   "cell_type": "markdown",
   "metadata": {},
   "source": [
    "Los dos datasets de telefonia móvil se unen a través de columnas en comun para generar uno solo e iniciar el analisis exploratorio."
   ]
  },
  {
   "cell_type": "code",
   "execution_count": null,
   "metadata": {},
   "outputs": [],
   "source": [
    "with open('EDA-MOV.html', 'r') as f:\n",
    "    contenido = f.read()\n",
    "\n",
    "display(HTML(contenido))"
   ]
  },
  {
   "attachments": {},
   "cell_type": "markdown",
   "metadata": {},
   "source": [
    "Se generan los datos de distribucion para todas las columnas e identifico la data limpia sin nulos ni repetidos.\n",
    "\n",
    "Observo la distribucion de los datos de las columnas e identifico que los datos de el acceso por cada 100 habitantes tiene una distribución multimodal, por lo cuál hay que saberlo relacionar para analizarlo.\n",
    "\n",
    "Logro identificar una correlacion negativa en el acceso a cada 100 habitantes y los ingresos, lo cuál genera cierto interés al ver que al disminuir el acceso debería aumentar los ingresos bajo éste supuesto.\n",
    "\n"
   ]
  },
  {
   "attachments": {},
   "cell_type": "markdown",
   "metadata": {},
   "source": [
    "Los 2 datasets de telefonia fija se unen en uno solo para iniciar el análisis exploratorio:"
   ]
  },
  {
   "cell_type": "code",
   "execution_count": null,
   "metadata": {},
   "outputs": [],
   "source": [
    "with open('EDA-TEL-FIJA.html', 'r') as f:\n",
    "    contenido = f.read()\n",
    "\n",
    "display(HTML(contenido))"
   ]
  },
  {
   "attachments": {},
   "cell_type": "markdown",
   "metadata": {},
   "source": [
    "Después de obervar la data limpia sin repetidos ni nulos proceso a observar que la distribucion de las columnas tienen una distribucion normal a excepcion de los ingresos que al igual que en el dataset de internet es un dato que debe ser obervado en base a una temporalidad.\n",
    "\n",
    "En cuanto a la correlacion de las columnas hay una alta correlacion entre los ingresos y el año, y así mismo entre el acceso a cada 100 hogares con el acceso a cada 100 personas, lo cuál nos da una idea de qué datos podriamos usar para nuestros kpi´s,"
   ]
  }
 ],
 "metadata": {
  "kernelspec": {
   "display_name": "Python 3",
   "language": "python",
   "name": "python3"
  },
  "language_info": {
   "codemirror_mode": {
    "name": "ipython",
    "version": 3
   },
   "file_extension": ".py",
   "mimetype": "text/x-python",
   "name": "python",
   "nbconvert_exporter": "python",
   "pygments_lexer": "ipython3",
   "version": "3.11.0 (main, Oct 24 2022, 18:26:48) [MSC v.1933 64 bit (AMD64)]"
  },
  "orig_nbformat": 4,
  "vscode": {
   "interpreter": {
    "hash": "a4af542ade3d191660ccb9850644250ba26588e88e730caf7688a4741ef93f45"
   }
  }
 },
 "nbformat": 4,
 "nbformat_minor": 2
}
